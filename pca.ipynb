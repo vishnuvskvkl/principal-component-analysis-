{
 "cells": [
  {
   "cell_type": "code",
   "execution_count": 1,
   "id": "18cb525a",
   "metadata": {},
   "outputs": [],
   "source": [
    "import pandas as pd\n",
    "df_train = pd.read_csv(\"D:/ml/dataset/train.csv/train.csv\")"
   ]
  },
  {
   "cell_type": "code",
   "execution_count": 4,
   "id": "56cfc0ef",
   "metadata": {},
   "outputs": [
    {
     "data": {
      "text/plain": [
       "(42000, 785)"
      ]
     },
     "execution_count": 4,
     "metadata": {},
     "output_type": "execute_result"
    }
   ],
   "source": [
    "df_train.shape"
   ]
  },
  {
   "cell_type": "code",
   "execution_count": 5,
   "id": "ae8fcdb2",
   "metadata": {},
   "outputs": [
    {
     "data": {
      "text/plain": [
       "(28000, 784)"
      ]
     },
     "execution_count": 5,
     "metadata": {},
     "output_type": "execute_result"
    }
   ],
   "source": [
    "df_test.shape"
   ]
  },
  {
   "cell_type": "code",
   "execution_count": 7,
   "id": "38c63450",
   "metadata": {},
   "outputs": [
    {
     "data": {
      "text/plain": [
       "Index(['label', 'pixel0', 'pixel1', 'pixel2', 'pixel3', 'pixel4', 'pixel5',\n",
       "       'pixel6', 'pixel7', 'pixel8',\n",
       "       ...\n",
       "       'pixel774', 'pixel775', 'pixel776', 'pixel777', 'pixel778', 'pixel779',\n",
       "       'pixel780', 'pixel781', 'pixel782', 'pixel783'],\n",
       "      dtype='object', length=785)"
      ]
     },
     "execution_count": 7,
     "metadata": {},
     "output_type": "execute_result"
    }
   ],
   "source": [
    "df_train.columns"
   ]
  },
  {
   "cell_type": "code",
   "execution_count": 8,
   "id": "629cbc64",
   "metadata": {},
   "outputs": [],
   "source": [
    "x=df_train.iloc[:,1:]\n",
    "y=df_train.iloc[:,0]"
   ]
  },
  {
   "cell_type": "code",
   "execution_count": 9,
   "id": "0a72577c",
   "metadata": {},
   "outputs": [],
   "source": [
    "from sklearn.preprocessing import StandardScaler\n",
    "sc=StandardScaler()\n",
    "x_scaled=sc.fit_transform(x)"
   ]
  },
  {
   "cell_type": "code",
   "execution_count": 10,
   "id": "1c53ea39",
   "metadata": {},
   "outputs": [],
   "source": [
    "from sklearn.decomposition import PCA\n",
    "pca1=PCA(n_components=300)\n",
    "pca2=PCA(n_components=400)\n",
    "pca3=PCA(n_components=500)\n",
    "x_pca=pca1.fit_transform(x_scaled)\n"
   ]
  },
  {
   "cell_type": "code",
   "execution_count": 11,
   "id": "b665c2be",
   "metadata": {},
   "outputs": [],
   "source": [
    "from sklearn.model_selection import train_test_split\n",
    "x_train,x_test,y_train,y_test=train_test_split(x_pca,y,test_size=0.2,random_state=20)\n"
   ]
  },
  {
   "cell_type": "code",
   "execution_count": 12,
   "id": "feebea56",
   "metadata": {},
   "outputs": [],
   "source": [
    "from sklearn import svm\n",
    "clf=svm.SVC(kernel='linear')\n",
    "clf.fit(x_train,y_train)\n",
    "y_pred=clf.predict(x_test)"
   ]
  },
  {
   "cell_type": "code",
   "execution_count": 13,
   "id": "52b3ba68",
   "metadata": {},
   "outputs": [
    {
     "name": "stdout",
     "output_type": "stream",
     "text": [
      "using 300 components\n",
      "accuracy 0.9277380952380953\n",
      "f1 score 0.9268266832142389\n",
      "recall 0.9267447451266484\n",
      "precision 0.9275214248752374\n"
     ]
    }
   ],
   "source": [
    "from sklearn import metrics\n",
    "print('using 300 components')\n",
    "print('accuracy',metrics.accuracy_score(y_test,y_pred))\n",
    "print('f1 score',metrics.f1_score(y_test,y_pred,average='macro'))\n",
    "print('recall',metrics.recall_score(y_test,y_pred,average='macro'))\n",
    "print('precision',metrics.precision_score(y_test,y_pred,average='macro'))"
   ]
  },
  {
   "cell_type": "code",
   "execution_count": 14,
   "id": "261485d8",
   "metadata": {},
   "outputs": [],
   "source": [
    "x_pca1=pca2.fit_transform(x_scaled)\n",
    "from sklearn.model_selection import train_test_split\n",
    "x_train,x_test,y_train,y_test=train_test_split(x_pca1,y,test_size=0.2,random_state=20)\n"
   ]
  },
  {
   "cell_type": "code",
   "execution_count": 15,
   "id": "de0a758b",
   "metadata": {},
   "outputs": [],
   "source": [
    "from sklearn import svm\n",
    "clf=svm.SVC(kernel='linear')\n",
    "clf.fit(x_train,y_train)\n",
    "y_pred=clf.predict(x_test)"
   ]
  },
  {
   "cell_type": "code",
   "execution_count": 17,
   "id": "e047d6e7",
   "metadata": {},
   "outputs": [
    {
     "name": "stdout",
     "output_type": "stream",
     "text": [
      "using 400 components\n",
      "accuracy 0.9211904761904762\n",
      "f1 score 0.9201778973981309\n",
      "recall 0.9201594784801111\n",
      "precision 0.9210149116749189\n"
     ]
    }
   ],
   "source": [
    "from sklearn import metrics\n",
    "print('using 400 components')\n",
    "print('accuracy',metrics.accuracy_score(y_test,y_pred))\n",
    "print('f1 score',metrics.f1_score(y_test,y_pred,average='macro'))\n",
    "print('recall',metrics.recall_score(y_test,y_pred,average='macro'))\n",
    "print('precision',metrics.precision_score(y_test,y_pred,average='macro'))"
   ]
  },
  {
   "cell_type": "code",
   "execution_count": 18,
   "id": "8977e415",
   "metadata": {},
   "outputs": [],
   "source": [
    "x_pca2=pca3.fit_transform(x_scaled)\n",
    "from sklearn.model_selection import train_test_split\n",
    "x_train,x_test,y_train,y_test=train_test_split(x_pca2,y,test_size=0.2,random_state=20)\n"
   ]
  },
  {
   "cell_type": "code",
   "execution_count": 19,
   "id": "a214757b",
   "metadata": {},
   "outputs": [],
   "source": [
    "from sklearn import svm\n",
    "clf=svm.SVC(kernel='linear')\n",
    "clf.fit(x_train,y_train)\n",
    "y_pred=clf.predict(x_test)"
   ]
  },
  {
   "cell_type": "code",
   "execution_count": 20,
   "id": "52309702",
   "metadata": {},
   "outputs": [
    {
     "name": "stdout",
     "output_type": "stream",
     "text": [
      "using 500 components\n",
      "accuracy 0.920952380952381\n",
      "f1 score 0.9200327442397367\n",
      "recall 0.919935826359629\n",
      "precision 0.9210694874700674\n"
     ]
    }
   ],
   "source": [
    "from sklearn import metrics\n",
    "print('using 500 components')\n",
    "print('accuracy',metrics.accuracy_score(y_test,y_pred))\n",
    "print('f1 score',metrics.f1_score(y_test,y_pred,average='macro'))\n",
    "print('recall',metrics.recall_score(y_test,y_pred,average='macro'))\n",
    "print('precision',metrics.precision_score(y_test,y_pred,average='macro'))"
   ]
  },
  {
   "cell_type": "code",
   "execution_count": null,
   "id": "cc081a60",
   "metadata": {},
   "outputs": [],
   "source": []
  }
 ],
 "metadata": {
  "kernelspec": {
   "display_name": "Python 3 (ipykernel)",
   "language": "python",
   "name": "python3"
  },
  "language_info": {
   "codemirror_mode": {
    "name": "ipython",
    "version": 3
   },
   "file_extension": ".py",
   "mimetype": "text/x-python",
   "name": "python",
   "nbconvert_exporter": "python",
   "pygments_lexer": "ipython3",
   "version": "3.8.8"
  }
 },
 "nbformat": 4,
 "nbformat_minor": 5
}
